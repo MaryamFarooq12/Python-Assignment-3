{
 "cells": [
  {
   "cell_type": "code",
   "execution_count": 6,
   "id": "3991447f",
   "metadata": {},
   "outputs": [
    {
     "name": "stdout",
     "output_type": "stream",
     "text": [
      "Twinkle,twinkle,little,star,\n",
      "\t How i wonder what you are!\n",
      "\t\t Up above the world so high \n",
      "\t\t Like a diamond in the sky.\n",
      "Twinkle,twinkle,little star,\n",
      "\tHow i wonder what you are\n"
     ]
    }
   ],
   "source": [
    "#Question No 1\n",
    "print(\"Twinkle,twinkle,little,star,\\n\\t How i wonder what you are!\\n\\t\\t Up above the world so high \\n\\t\\t Like a diamond in the sky.\\nTwinkle,twinkle,little star,\\n\\tHow i wonder what you are\");"
   ]
  },
  {
   "cell_type": "code",
   "execution_count": 11,
   "id": "f9644fda",
   "metadata": {},
   "outputs": [
    {
     "name": "stdout",
     "output_type": "stream",
     "text": [
      "3.8.8 (default, Apr 13 2021, 15:08:03) [MSC v.1916 64 bit (AMD64)]\n"
     ]
    }
   ],
   "source": [
    "#Question No 2\n",
    "import sys\n",
    "print(sys.version)\n"
   ]
  },
  {
   "cell_type": "code",
   "execution_count": 12,
   "id": "0c4f333b",
   "metadata": {},
   "outputs": [
    {
     "name": "stdout",
     "output_type": "stream",
     "text": [
      "Today's DateTime 2021-10-23 20:41:04.484842\n"
     ]
    }
   ],
   "source": [
    "#Question No 3\n",
    "import datetime\n",
    "datetime_Today=datetime.datetime.now()\n",
    "print(\"Today's DateTime\",datetime_Today);"
   ]
  },
  {
   "cell_type": "code",
   "execution_count": 13,
   "id": "53c6f397",
   "metadata": {},
   "outputs": [
    {
     "name": "stdout",
     "output_type": "stream",
     "text": [
      "Enter the radius of the circle88\n",
      "Area of the circle is 24316.16\n"
     ]
    }
   ],
   "source": [
    "#Question No 4\n",
    "radius=float(input(\"Enter the radius of the circle\"))\n",
    "area= 3.14*radius*radius\n",
    "print(\"Area of the circle is\",area)"
   ]
  },
  {
   "cell_type": "code",
   "execution_count": 2,
   "id": "4b751a1d",
   "metadata": {},
   "outputs": [
    {
     "name": "stdout",
     "output_type": "stream",
     "text": [
      "Enter the First NameMaryam\n",
      "Enter the Last NameFarooq\n",
      "Farooq Maryam\n"
     ]
    }
   ],
   "source": [
    "#Question No 5\n",
    "FirstName=input(\"Enter the First Name\")\n",
    "LastName=input(\"Enter the Last Name\")\n",
    "print(LastName,FirstName)"
   ]
  },
  {
   "cell_type": "code",
   "execution_count": 6,
   "id": "cbffc036",
   "metadata": {},
   "outputs": [
    {
     "name": "stdout",
     "output_type": "stream",
     "text": [
      "Enter 1st input10\n",
      "Enter 2nd input20\n",
      "sum of the inputs 30\n"
     ]
    }
   ],
   "source": [
    "#Question No 6\n",
    "A= int(input(\"Enter 1st input\"))\n",
    "B= int(input(\"Enter 2nd input\"))\n",
    "sum=A+B;\n",
    "print(\"sum of the inputs\",sum)"
   ]
  },
  {
   "cell_type": "code",
   "execution_count": 45,
   "id": "b3286187",
   "metadata": {},
   "outputs": [
    {
     "name": "stdout",
     "output_type": "stream",
     "text": [
      "Enter marks of English55\n",
      "Enter marks of Maths66\n",
      "Enter marks of islamiyat77\n",
      "Enter marks of Urdu88\n",
      "Enter ,arks of PakStudies99\n",
      "385\n",
      "Percentage is 77.0\n",
      "Total Marks are 500\n",
      "Obtained Marks are  385\n",
      "Percentage is 77.0\n",
      "Grade is A\n"
     ]
    }
   ],
   "source": [
    "#Question No 7\n",
    "English= int(input(\"Enter marks of English\"))\n",
    "Maths= int(input(\"Enter marks of Maths\"))\n",
    "Islamiyat= int(input(\"Enter marks of islamiyat\"))\n",
    "Urdu=int(input(\"Enter marks of Urdu\"))\n",
    "PakStudies= int(input(\"Enter ,arks of PakStudies\")) \n",
    "Total_Obtained=English+Maths+Islamiyat+Urdu+PakStudies\n",
    "print(Total_Obtained)\n",
    "Percentage=Total_Obtained/500*100\n",
    "print(\"Percentage is\", Percentage)\n",
    "print(\"Total Marks are 500\")\n",
    "print(\"Obtained Marks are \",Total_Obtained)\n",
    "print(\"Percentage is\",Percentage)\n",
    "if Percentage >=80:\n",
    " print(\"Grade is A+\")\n",
    "elif Percentage >=70 :\n",
    "  print(\"Grade is A\")\n",
    "elif Percentage >=60 :\n",
    " print(\"Grade is B\") \n",
    "elif Percentage >=50 :\n",
    " print(\"Grade is C\")      \n",
    "elif Percentage >=40:\n",
    " print(\"Grade is D\") \n",
    "elif Percentage >=33:\n",
    "  print(\"Grade is E \") \n",
    "else:\n",
    " print(\"Grade is F\")\n",
    "\n"
   ]
  },
  {
   "cell_type": "code",
   "execution_count": 36,
   "id": "523573f1",
   "metadata": {},
   "outputs": [
    {
     "name": "stdout",
     "output_type": "stream",
     "text": [
      "Enter the Number22\n",
      "The Number is Even 22\n"
     ]
    }
   ],
   "source": [
    "#Question No 8\n",
    "Number=int(input(\"Enter the Number\"))\n",
    "if (Number%2==0):\n",
    " print(\"The Number is Even\",Number)\n",
    "else:\n",
    " print(\"The Number is Odd\",Number)"
   ]
  },
  {
   "cell_type": "code",
   "execution_count": 16,
   "id": "085d8c4a",
   "metadata": {},
   "outputs": [
    {
     "name": "stdout",
     "output_type": "stream",
     "text": [
      "Lenght of the List 11\n"
     ]
    }
   ],
   "source": [
    "#Question No 9\n",
    "ArrList=[0,1,2,3,4,5,6,7,8,9,10]\n",
    "print(\"Lenght of the List\",len(ArrList))"
   ]
  },
  {
   "cell_type": "code",
   "execution_count": 47,
   "id": "4e36fc5a",
   "metadata": {},
   "outputs": [
    {
     "name": "stdout",
     "output_type": "stream",
     "text": [
      "sum of the list items are 50\n"
     ]
    }
   ],
   "source": [
    "#Question No 10\n",
    "mylist=[20,30]\n",
    "total=0\n",
    "for n in range(0, len(mylist)):\n",
    "    total=total+mylist[n]\n",
    "print(\"sum of the list items are\",total)"
   ]
  },
  {
   "cell_type": "code",
   "execution_count": 48,
   "id": "4e243dfc",
   "metadata": {},
   "outputs": [
    {
     "name": "stdout",
     "output_type": "stream",
     "text": [
      "Largest number of the list 10\n"
     ]
    }
   ],
   "source": [
    "#Question No 11\n",
    "List=[2,4,6,8,10]\n",
    "print(\"Largest number of the list\",max(List))"
   ]
  },
  {
   "cell_type": "code",
   "execution_count": 31,
   "id": "ff780f3c",
   "metadata": {},
   "outputs": [
    {
     "name": "stdout",
     "output_type": "stream",
     "text": [
      "1\n",
      "1\n",
      "2\n",
      "3\n"
     ]
    }
   ],
   "source": [
    "#Question No 12\n",
    "a=[1,1,2,3,5,8,13,21,34,55,89]\n",
    "for n in a:\n",
    " if n<5:\n",
    "  print(n)"
   ]
  },
  {
   "cell_type": "code",
   "execution_count": null,
   "id": "ec62ea6b",
   "metadata": {},
   "outputs": [],
   "source": []
  }
 ],
 "metadata": {
  "kernelspec": {
   "display_name": "Python 3",
   "language": "python",
   "name": "python3"
  },
  "language_info": {
   "codemirror_mode": {
    "name": "ipython",
    "version": 3
   },
   "file_extension": ".py",
   "mimetype": "text/x-python",
   "name": "python",
   "nbconvert_exporter": "python",
   "pygments_lexer": "ipython3",
   "version": "3.8.8"
  }
 },
 "nbformat": 4,
 "nbformat_minor": 5
}
